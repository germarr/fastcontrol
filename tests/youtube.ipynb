{
 "cells": [
  {
   "cell_type": "code",
   "execution_count": 1,
   "source": [
    "import psycopg2\n",
    "import psycopg2.extras\n",
    "import csv\n",
    "import pandas as pd\n",
    "from datetime import datetime, timedelta\n",
    "import json"
   ],
   "outputs": [],
   "metadata": {}
  },
  {
   "cell_type": "code",
   "execution_count": 31,
   "source": [
    "conn = psycopg2.connect(\"host=34.66.221.94 port=5432 dbname=book_db user=postgres password=password\")\n",
    "cur = conn.cursor(cursor_factory = psycopg2.extras.RealDictCursor)\n",
    "cur.execute(f'SELECT * FROM df_8_26_2021 WHERE mx >= 1 ORDER BY dislikecount desc LIMIT 5')\n",
    "fulldf = cur.fetchall()\n",
    "df = [{\n",
    "    \"channel_id\":str(i['channel_id']),\n",
    "    \"channel_title\":str(i[\"channel_title\"]),\n",
    "    \"video_id\":str(i[\"title\"]),\n",
    "    \"publishedAt\":str(i[\"publishedat\"]),\n",
    "    \"title\":str(i[\"title\"]),\n",
    "    \"viewCount\":int(i[\"viewcount\"]),\n",
    "    \"likecount\":int(i[\"likecount\"]),\n",
    "    \"dislikeCount\":int(i[\"dislikecount\"]),\n",
    "    \"commentCount\":int(i[\"commentcount\"]),\n",
    "    \"thumbnail\":str(i[\"thumbnail\"]),\n",
    "    \"link\":str(i[\"link\"]),\n",
    "    \"video_lang\":str(i[\"video_lang\"]),\n",
    "    \"categoryId\":str(i[\"categoryid\"]),\n",
    "    \"CountriesTreding\":int(i[\"sum_of_countries\"]),\n",
    "    \"AR\":int(i[\"ar\"]),\n",
    "    \"AU\":int(i[\"au\"]),\n",
    "    \"BO\":int(i[\"bo\"]),\n",
    "    \"BR\":int(i[\"br\"]),\n",
    "    \"CA\":int(i[\"ca\"]),\n",
    "    \"CL\":int(i[\"cl\"]),\n",
    "    \"CO\":int(i[\"co\"]),\n",
    "    \"CR\":int(i[\"cr\"]),\n",
    "    \"DE\":int(i[\"de\"]),\n",
    "    \"EC\":int(i[\"ec\"]),\n",
    "    \"ES\":int(i[\"es\"]),\n",
    "    \"FR\":int(i[\"fr\"]),\n",
    "    \"GB\":int(i[\"gb\"]),\n",
    "    \"IN\":int(i[\"india\"]),\n",
    "    \"IT\":int(i[\"it\"]),\n",
    "    \"JP\":int(i[\"jp\"]),\n",
    "    \"KR\":int(i[\"kr\"]),\n",
    "    \"MX\":int(i[\"mx\"]),\n",
    "    \"PE\":int(i[\"pe\"]),\n",
    "    \"PT\":int(i[\"pt\"]),\n",
    "    \"US\":int(i[\"us\"]),\n",
    "    \"UY\":int(i[\"uy\"])\n",
    "    } for i in fulldf]\n",
    "    \n",
    "    "
   ],
   "outputs": [],
   "metadata": {}
  },
  {
   "cell_type": "code",
   "execution_count": 32,
   "source": [
    "db = pd.DataFrame(df)\n",
    "#dataframe.loc[dataframe[\"MX\"] >= 1].reset_index().head(5).transpose().to_dict()"
   ],
   "outputs": [],
   "metadata": {}
  },
  {
   "cell_type": "code",
   "execution_count": 54,
   "source": [
    "flag_list = []\n",
    "values= 5\n",
    "country = \"MX\"\n",
    "\n",
    "for i in range(values):\n",
    "    valueOne = i\n",
    "    valueTwo = i+1\n",
    "    flags = db.loc[db[f\"{country}\"] == 1].iloc[valueOne:valueTwo,15:-2].reset_index().iloc[:,1:].transpose().reset_index().rename(columns={0:\"counts\"}).query('counts >0').set_index(\"index\").transpose().columns\n",
    "    flag_list.append([])\n",
    "        \n",
    "    for si in range(len(flags)):\n",
    "        flag_list[i].append(flags[si])"
   ],
   "outputs": [],
   "metadata": {}
  },
  {
   "cell_type": "code",
   "execution_count": 57,
   "source": [
    "db.loc[db[f\"{country}\"] == 1].iloc[0:1,15:-2].reset_index().iloc[:,1:].transpose().rename(columns={0:\"counts\"}).query('counts >0').transpose().columns"
   ],
   "outputs": [
    {
     "output_type": "execute_result",
     "data": {
      "text/plain": [
       "Index(['BO', 'CL', 'CO', 'CR', 'EC', 'MX', 'PE'], dtype='object')"
      ]
     },
     "metadata": {},
     "execution_count": 57
    }
   ],
   "metadata": {}
  },
  {
   "cell_type": "code",
   "execution_count": 72,
   "source": [
    "list_of_countries = [\"AR\",\"AU\",\"BO\",\"BR\",\"CA\",\"CL\",\"CO\",\"CR\",\"DE\",\"EC\",\"ES\",\"FR\",\"GB\",\"IN\",\"IT\",\"JP\",\"KR\",\"MX\",\"PE\",\"PT\",\"US\",\"UY\"]\n",
    "\n",
    "empty_list_flags = []\n",
    "\n",
    "for j in range(4):\n",
    "    empty_list_flags.append([])\n",
    "    for i,x in enumerate(list_of_countries):\n",
    "        if df[j][x] == 1:\n",
    "            empty_list_flags[j].append(x)\n",
    "    "
   ],
   "outputs": [],
   "metadata": {}
  },
  {
   "cell_type": "code",
   "execution_count": 73,
   "source": [
    "empty_list_flags"
   ],
   "outputs": [
    {
     "output_type": "execute_result",
     "data": {
      "text/plain": [
       "[['AR', 'BO', 'CL', 'CO', 'CR', 'EC', 'MX', 'PE', 'UY'],\n",
       " ['AR', 'BO', 'CL', 'CO', 'CR', 'EC', 'MX', 'PE', 'UY'],\n",
       " ['AR', 'BO', 'CL', 'CO', 'CR', 'EC', 'ES', 'MX', 'PE', 'US', 'UY'],\n",
       " ['AR',\n",
       "  'AU',\n",
       "  'BO',\n",
       "  'BR',\n",
       "  'CA',\n",
       "  'CL',\n",
       "  'CO',\n",
       "  'CR',\n",
       "  'DE',\n",
       "  'EC',\n",
       "  'ES',\n",
       "  'FR',\n",
       "  'GB',\n",
       "  'IT',\n",
       "  'MX',\n",
       "  'PE',\n",
       "  'PT',\n",
       "  'US',\n",
       "  'UY']]"
      ]
     },
     "metadata": {},
     "execution_count": 73
    }
   ],
   "metadata": {}
  },
  {
   "cell_type": "code",
   "execution_count": null,
   "source": [],
   "outputs": [],
   "metadata": {}
  }
 ],
 "metadata": {
  "orig_nbformat": 4,
  "language_info": {
   "name": "python",
   "version": "3.7.9",
   "mimetype": "text/x-python",
   "codemirror_mode": {
    "name": "ipython",
    "version": 3
   },
   "pygments_lexer": "ipython3",
   "nbconvert_exporter": "python",
   "file_extension": ".py"
  },
  "kernelspec": {
   "name": "python3",
   "display_name": "Python 3.7.9 64-bit ('env': venv)"
  },
  "interpreter": {
   "hash": "4934d4a8c9b7cd16e56f3855a1fe63a0ddd2c6e2775a0bbb980626ab72cbb53d"
  }
 },
 "nbformat": 4,
 "nbformat_minor": 2
}